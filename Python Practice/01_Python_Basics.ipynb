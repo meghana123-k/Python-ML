{
 "cells": [
  {
   "cell_type": "code",
   "execution_count": null,
   "id": "a794d090-b616-4b6d-8738-9eb90b8cf46b",
   "metadata": {},
   "outputs": [],
   "source": []
  },
  {
   "cell_type": "markdown",
   "id": "b08b34a6-c5bd-4b8a-b203-fb4ca7a266ac",
   "metadata": {},
   "source": [
    "# Variables & Data Types"
   ]
  },
  {
   "cell_type": "markdown",
   "id": "343cdaeb-2a07-4a8b-a99b-d5b20463dd5c",
   "metadata": {},
   "source": [
    "### Create variables of types int, float, string, bool, list, tuple, set, and dict. Print their type using type()."
   ]
  },
  {
   "cell_type": "code",
   "execution_count": 29,
   "id": "2afa6b54-4665-489b-a6b9-b8b2154269ad",
   "metadata": {},
   "outputs": [],
   "source": [
    "intA = 45\n",
    "floatB = 45.67\n",
    "str = \"Meghana\"\n",
    "isFake = True\n",
    "lst1 = [34, 55, 78]\n",
    "tple1 = (23, 45, 23)\n",
    "set_nums = {45, 43, 43, 45}\n",
    "dict = {\"Name\": \"Meghana\", \"age\": 20}"
   ]
  },
  {
   "cell_type": "code",
   "execution_count": 37,
   "id": "d2e7e7ac-5e71-408e-b237-22f204aac836",
   "metadata": {},
   "outputs": [
    {
     "name": "stdout",
     "output_type": "stream",
     "text": [
      "<class 'int'>\n",
      "<class 'float'>\n",
      "<class 'str'>\n",
      "<class 'bool'>\n",
      "<class 'list'>\n",
      "<class 'tuple'>\n",
      "<class 'set'>\n",
      "<class 'dict'>\n"
     ]
    }
   ],
   "source": [
    "print(type(intA))\n",
    "print(type(floatB))\n",
    "print(type(str))\n",
    "print(type(isFake))\n",
    "print(type(lst1))\n",
    "print(type(tple1))\n",
    "print(type(set_nums))\n",
    "print(type(dict))"
   ]
  },
  {
   "cell_type": "markdown",
   "id": "f202703c-6d70-4341-825b-93e2084a10c3",
   "metadata": {},
   "source": [
    "### Convert a string \"123.45\" into an integer and float. Handle the error if conversion fails."
   ]
  },
  {
   "cell_type": "code",
   "execution_count": 63,
   "id": "eabf56ff-151f-4d2d-a2a6-34a4a74b6ee2",
   "metadata": {},
   "outputs": [
    {
     "name": "stdout",
     "output_type": "stream",
     "text": [
      "123\n",
      "Invalid..\n",
      "123.45\n"
     ]
    }
   ],
   "source": [
    "try:\n",
    "    str = \"123.45\"\n",
    "    n = int(float(str))\n",
    "    print(n)\n",
    "    num = int(str)\n",
    "    print(num)\n",
    "except Exception as e:\n",
    "    print(\"Invalid..\")\n",
    "try:\n",
    "    str = \"123.45\"\n",
    "    num2 = float(str)\n",
    "    print(num2)\n",
    "except Exception as e:\n",
    "    print(\"Invalid..\")"
   ]
  },
  {
   "cell_type": "markdown",
   "id": "088ef9c5-2cd4-4132-b15c-cae4ae61426a",
   "metadata": {},
   "source": [
    "### Write a Python program to swap two variables without using a temporary variable."
   ]
  },
  {
   "cell_type": "code",
   "execution_count": 1,
   "id": "14ac603e-f98e-41a6-b152-75fb9721e735",
   "metadata": {},
   "outputs": [],
   "source": [
    "a = 10\n",
    "b = 20\n",
    "a, b = b, a"
   ]
  },
  {
   "cell_type": "code",
   "execution_count": 3,
   "id": "f581e6a9",
   "metadata": {},
   "outputs": [
    {
     "name": "stdout",
     "output_type": "stream",
     "text": [
      "20 10\n"
     ]
    }
   ],
   "source": [
    "print(a,b)"
   ]
  },
  {
   "cell_type": "markdown",
   "id": "190d0595",
   "metadata": {},
   "source": [
    "Given a list nums = [1, 2, 2, 3, 4, 4, 5], remove duplicates and keep only unique values."
   ]
  },
  {
   "cell_type": "code",
   "execution_count": 5,
   "id": "dbe09702",
   "metadata": {},
   "outputs": [],
   "source": [
    "nums = [1, 2, 2, 3, 4, 4, 5]\n",
    "unique_nums = set(nums)"
   ]
  },
  {
   "cell_type": "code",
   "execution_count": 6,
   "id": "7be0a343",
   "metadata": {},
   "outputs": [
    {
     "name": "stdout",
     "output_type": "stream",
     "text": [
      "{1, 2, 3, 4, 5}\n"
     ]
    }
   ],
   "source": [
    "print(unique_nums)"
   ]
  },
  {
   "cell_type": "code",
   "execution_count": 7,
   "id": "ddcc1535",
   "metadata": {},
   "outputs": [
    {
     "name": "stdout",
     "output_type": "stream",
     "text": [
      "{'m': 1, 'a': 2, 'c': 1, 'h': 1, 'i': 2, 'n': 3, 'e': 2, 'l': 1, 'r': 1, 'g': 1}\n"
     ]
    }
   ],
   "source": [
    "s = \"machinelearning\"\n",
    "dict = {}\n",
    "for i in s:\n",
    "    if(i not in dict):\n",
    "        dict[i] = 1\n",
    "    else:\n",
    "        dict[i] += 1\n",
    "\n",
    "print(dict)"
   ]
  },
  {
   "cell_type": "code",
   "execution_count": null,
   "id": "d4179d2b",
   "metadata": {},
   "outputs": [],
   "source": []
  }
 ],
 "metadata": {
  "kernelspec": {
   "display_name": "base",
   "language": "python",
   "name": "python3"
  },
  "language_info": {
   "codemirror_mode": {
    "name": "ipython",
    "version": 3
   },
   "file_extension": ".py",
   "mimetype": "text/x-python",
   "name": "python",
   "nbconvert_exporter": "python",
   "pygments_lexer": "ipython3",
   "version": "3.12.4"
  }
 },
 "nbformat": 4,
 "nbformat_minor": 5
}
