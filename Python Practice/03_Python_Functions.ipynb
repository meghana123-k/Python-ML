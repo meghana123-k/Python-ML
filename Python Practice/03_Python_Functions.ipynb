{
 "cells": [
  {
   "cell_type": "markdown",
   "id": "ef8f5f9d",
   "metadata": {},
   "source": [
    "Write a function that accepts a list of numbers and returns the maximum value.\n",
    "\n",
    "Write a function factorial(n) that returns the factorial of n using recursion.\n",
    "\n",
    "Write a function greet(name=\"User\") that prints \"Hello, <name>!\". If no argument is given, it should greet \"User\".\n",
    "\n",
    "Write a function that accepts any number of arguments using *args and returns their sum.\n",
    "\n",
    "Write a function that accepts keyword arguments using **kwargs and prints them in key = value format."
   ]
  },
  {
   "cell_type": "code",
   "execution_count": 11,
   "id": "8eaa320e",
   "metadata": {},
   "outputs": [
    {
     "name": "stdout",
     "output_type": "stream",
     "text": [
      "[34, 23, 12, 56, 389]\n",
      "389\n",
      "<class 'list'>\n"
     ]
    }
   ],
   "source": [
    "nums = list(map(int, input(\"Enter list of nums\").split(\" \")))\n",
    "print(nums)\n",
    "print(max(nums))\n",
    "print(type(nums))"
   ]
  },
  {
   "cell_type": "code",
   "execution_count": 13,
   "id": "74354d5b",
   "metadata": {},
   "outputs": [
    {
     "name": "stdout",
     "output_type": "stream",
     "text": [
      "Hello user\n",
      "Hello Meghana\n"
     ]
    }
   ],
   "source": [
    "def greet(name=\"user\"):\n",
    "    print(\"Hello \"+name)\n",
    "greet()\n",
    "greet(\"Meghana\")"
   ]
  },
  {
   "cell_type": "code",
   "execution_count": 16,
   "id": "5eab4f8d",
   "metadata": {},
   "outputs": [
    {
     "name": "stdout",
     "output_type": "stream",
     "text": [
      "50\n"
     ]
    }
   ],
   "source": [
    "def sumOfNums(*args):\n",
    "    return sum(args)\n",
    "\n",
    "print(sumOfNums(45, 5))"
   ]
  },
  {
   "cell_type": "code",
   "execution_count": 24,
   "id": "04951515",
   "metadata": {},
   "outputs": [
    {
     "name": "stdout",
     "output_type": "stream",
     "text": [
      "name = Meghana\n",
      "age = 20\n"
     ]
    }
   ],
   "source": [
    "def fun(**kwargs):\n",
    "    for key in kwargs:\n",
    "        print(f'{key} = {kwargs[key]}')\n",
    "\n",
    "fun(name=\"Meghana\", age = 20)"
   ]
  },
  {
   "cell_type": "code",
   "execution_count": 27,
   "id": "7d2bcb83",
   "metadata": {},
   "outputs": [],
   "source": [
    "def fact(n):\n",
    "    if(n <= 1):\n",
    "        return 1;\n",
    "    return n * fact(n-1)"
   ]
  },
  {
   "cell_type": "code",
   "execution_count": 34,
   "id": "b5849123",
   "metadata": {},
   "outputs": [
    {
     "name": "stdout",
     "output_type": "stream",
     "text": [
      "120\n"
     ]
    }
   ],
   "source": [
    "print(fact(5))"
   ]
  },
  {
   "cell_type": "code",
   "execution_count": null,
   "id": "c56220a7",
   "metadata": {},
   "outputs": [],
   "source": []
  }
 ],
 "metadata": {
  "kernelspec": {
   "display_name": "base",
   "language": "python",
   "name": "python3"
  },
  "language_info": {
   "codemirror_mode": {
    "name": "ipython",
    "version": 3
   },
   "file_extension": ".py",
   "mimetype": "text/x-python",
   "name": "python",
   "nbconvert_exporter": "python",
   "pygments_lexer": "ipython3",
   "version": "3.12.4"
  }
 },
 "nbformat": 4,
 "nbformat_minor": 5
}
