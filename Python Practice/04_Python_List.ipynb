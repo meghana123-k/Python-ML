{
 "cells": [
  {
   "cell_type": "markdown",
   "id": "93660b31",
   "metadata": {},
   "source": [
    "Write a one-liner list comprehension that generates a list of squares from 1 to 10.\n",
    "\n",
    "From a list words = [\"apple\", \"banana\", \"cherry\", \"kiwi\", \"mango\"], use a list comprehension to get words that start with \"a\" or \"b\".\n",
    "\n",
    "Write a list comprehension that extracts all vowels from the string \"datascience\".\n",
    "\n",
    "Write a list comprehension that generates all even numbers between 1 and 50.\n",
    "\n",
    "Write a program using list comprehension that converts temperatures in Celsius [0, 20, 37, 100] to Fahrenheit."
   ]
  },
  {
   "cell_type": "code",
   "execution_count": 4,
   "id": "9e329f9a",
   "metadata": {},
   "outputs": [
    {
     "name": "stdout",
     "output_type": "stream",
     "text": [
      "[0, 1, 4, 9, 16, 25]\n"
     ]
    }
   ],
   "source": [
    "squares = [i**2 for i in range(6)]\n",
    "print(squares)"
   ]
  },
  {
   "cell_type": "code",
   "execution_count": 6,
   "id": "f0c618a3",
   "metadata": {},
   "outputs": [
    {
     "name": "stdout",
     "output_type": "stream",
     "text": [
      "['apple', 'banana']\n"
     ]
    }
   ],
   "source": [
    "words = [\"apple\", \"banana\", \"cherry\", \"kiwi\", \"mango\"]\n",
    "res = [word for word in words if word.startswith('a') or word.startswith('b')]\n",
    "print(res)"
   ]
  },
  {
   "cell_type": "code",
   "execution_count": 7,
   "id": "aec19516",
   "metadata": {},
   "outputs": [
    {
     "name": "stdout",
     "output_type": "stream",
     "text": [
      "['a', 'a', 'i', 'e', 'e']\n"
     ]
    }
   ],
   "source": [
    "str1 = \"datascience\"\n",
    "res1 = [s for s in str1 if(s == 'a' or s == 'e' or s == 'i' or s == 'o' or s == 'u')]\n",
    "print(res1)"
   ]
  },
  {
   "cell_type": "code",
   "execution_count": 8,
   "id": "a070cd18",
   "metadata": {},
   "outputs": [
    {
     "name": "stdout",
     "output_type": "stream",
     "text": [
      "[2, 4, 6, 8, 10, 12, 14, 16, 18, 20, 22, 24, 26, 28, 30, 32, 34, 36, 38, 40, 42, 44, 46, 48]\n"
     ]
    }
   ],
   "source": [
    "print([num for num in range(1, 50) if num & 1 == 0])"
   ]
  },
  {
   "cell_type": "code",
   "execution_count": null,
   "id": "8c9015e9",
   "metadata": {},
   "outputs": [],
   "source": []
  }
 ],
 "metadata": {
  "kernelspec": {
   "display_name": "base",
   "language": "python",
   "name": "python3"
  },
  "language_info": {
   "codemirror_mode": {
    "name": "ipython",
    "version": 3
   },
   "file_extension": ".py",
   "mimetype": "text/x-python",
   "name": "python",
   "nbconvert_exporter": "python",
   "pygments_lexer": "ipython3",
   "version": "3.12.4"
  }
 },
 "nbformat": 4,
 "nbformat_minor": 5
}
