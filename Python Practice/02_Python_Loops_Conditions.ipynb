{
 "cells": [
  {
   "cell_type": "markdown",
   "id": "e30abe0f",
   "metadata": {},
   "source": [
    "Write a program to check whether a given number is prime or not."
   ]
  },
  {
   "cell_type": "code",
   "execution_count": 19,
   "id": "d575bbea",
   "metadata": {},
   "outputs": [],
   "source": [
    "def isPrime(num):\n",
    "    if(num <= 1):\n",
    "        return False\n",
    "    if(num == 2 or num == 3):\n",
    "        return True\n",
    "    if(num % 2 == 0 and num % 3 == 0): \n",
    "        return False\n",
    "    for i in range(5, num+1):\n",
    "        if(num % i == 0):\n",
    "            return False\n",
    "    return True"
   ]
  },
  {
   "cell_type": "code",
   "execution_count": 20,
   "id": "bba817bb",
   "metadata": {},
   "outputs": [
    {
     "name": "stdout",
     "output_type": "stream",
     "text": [
      "False\n",
      "False\n",
      "False\n",
      "True\n",
      "False\n"
     ]
    }
   ],
   "source": [
    "print(isPrime(45))\n",
    "print(isPrime(5))\n",
    "print(isPrime(0))\n",
    "print(isPrime(2))\n",
    "print(isPrime(13))"
   ]
  },
  {
   "cell_type": "markdown",
   "id": "e68a7472",
   "metadata": {},
   "source": [
    "Print the Fibonacci sequence up to 50 using a while loop."
   ]
  },
  {
   "cell_type": "code",
   "execution_count": 21,
   "id": "c3015433",
   "metadata": {},
   "outputs": [],
   "source": [
    "prev = 1\n",
    "prev2 = 0"
   ]
  },
  {
   "cell_type": "code",
   "execution_count": 22,
   "id": "164e3dcf",
   "metadata": {},
   "outputs": [
    {
     "name": "stdout",
     "output_type": "stream",
     "text": [
      "1\n",
      "2\n",
      "3\n",
      "5\n",
      "8\n",
      "13\n",
      "21\n",
      "34\n",
      "55\n",
      "89\n",
      "144\n",
      "233\n",
      "377\n",
      "610\n",
      "987\n",
      "1597\n",
      "2584\n",
      "4181\n",
      "6765\n",
      "10946\n",
      "17711\n",
      "28657\n",
      "46368\n",
      "75025\n",
      "121393\n",
      "196418\n",
      "317811\n",
      "514229\n",
      "832040\n",
      "1346269\n",
      "2178309\n",
      "3524578\n",
      "5702887\n",
      "9227465\n",
      "14930352\n",
      "24157817\n",
      "39088169\n",
      "63245986\n",
      "102334155\n",
      "165580141\n",
      "267914296\n",
      "433494437\n",
      "701408733\n",
      "1134903170\n",
      "1836311903\n",
      "2971215073\n",
      "4807526976\n",
      "7778742049\n",
      "12586269025\n"
     ]
    }
   ],
   "source": [
    "for i in range(2, 51):\n",
    "    curr = prev + prev2\n",
    "    print(curr);\n",
    "    prev2 = prev\n",
    "    prev = curr"
   ]
  },
  {
   "cell_type": "markdown",
   "id": "2bc0928e",
   "metadata": {},
   "source": [
    "Write a program that prints a multiplication table (1–10) using nested loops."
   ]
  },
  {
   "cell_type": "code",
   "execution_count": 24,
   "id": "7d27c8cb",
   "metadata": {},
   "outputs": [
    {
     "name": "stdout",
     "output_type": "stream",
     "text": [
      "5\n",
      "10\n",
      "15\n",
      "20\n",
      "25\n",
      "30\n",
      "35\n",
      "40\n",
      "45\n",
      "50\n"
     ]
    }
   ],
   "source": [
    "for i in range(1, 11):\n",
    "    print(i*5)"
   ]
  },
  {
   "cell_type": "markdown",
   "id": "a4cdffbf",
   "metadata": {},
   "source": [
    "Write a program that asks the user for a number and prints \"Even\" if it’s even, \"Odd\" otherwise."
   ]
  },
  {
   "cell_type": "code",
   "execution_count": 27,
   "id": "e65e0eb8",
   "metadata": {},
   "outputs": [
    {
     "name": "stdout",
     "output_type": "stream",
     "text": [
      "Odd\n"
     ]
    }
   ],
   "source": [
    "num  = 55\n",
    "if(num & 1 == 0):\n",
    "    print(\"Even\")\n",
    "else:\n",
    "    print(\"Odd\")"
   ]
  }
 ],
 "metadata": {
  "kernelspec": {
   "display_name": "base",
   "language": "python",
   "name": "python3"
  },
  "language_info": {
   "codemirror_mode": {
    "name": "ipython",
    "version": 3
   },
   "file_extension": ".py",
   "mimetype": "text/x-python",
   "name": "python",
   "nbconvert_exporter": "python",
   "pygments_lexer": "ipython3",
   "version": "3.12.4"
  }
 },
 "nbformat": 4,
 "nbformat_minor": 5
}
